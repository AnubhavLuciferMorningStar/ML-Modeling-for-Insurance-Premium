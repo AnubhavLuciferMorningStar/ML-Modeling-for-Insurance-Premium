{
 "cells": [
  {
   "cell_type": "markdown",
   "id": "7a492f08",
   "metadata": {},
   "source": [
    "# ML Modeling\n",
    "\n",
    "***1. Data Preprocessing:***\n",
    "* Handling Missing Values: Although initial data checks may not show missing values, always prepare to implement strategies for handling them.\n",
    "* Feature Engineering: Create new features that might improve model performance, such as Body Mass Index (BMI) from height and weight.\n",
    "* Scaling and Encoding: Apply appropriate scaling to numerical features and encoding to categorical features to prepare the data for machine learning algorithms."
   ]
  },
  {
   "cell_type": "code",
   "execution_count": 1,
   "id": "0b2ee906",
   "metadata": {},
   "outputs": [
    {
     "name": "stdout",
     "output_type": "stream",
     "text": [
      "Requirement already satisfied: shap in c:\\users\\dell\\anaconda3\\lib\\site-packages (0.47.2)\n",
      "Requirement already satisfied: numpy in c:\\users\\dell\\anaconda3\\lib\\site-packages (from shap) (1.23.5)\n",
      "Requirement already satisfied: tqdm>=4.27.0 in c:\\users\\dell\\anaconda3\\lib\\site-packages (from shap) (4.64.1)\n",
      "Requirement already satisfied: scipy in c:\\users\\dell\\anaconda3\\lib\\site-packages (from shap) (1.15.1)\n",
      "Requirement already satisfied: typing-extensions in c:\\users\\dell\\anaconda3\\lib\\site-packages (from shap) (4.12.2)\n",
      "Requirement already satisfied: slicer==0.0.8 in c:\\users\\dell\\anaconda3\\lib\\site-packages (from shap) (0.0.8)\n",
      "Requirement already satisfied: pandas in c:\\users\\dell\\anaconda3\\lib\\site-packages (from shap) (2.2.3)\n",
      "Requirement already satisfied: cloudpickle in c:\\users\\dell\\anaconda3\\lib\\site-packages (from shap) (2.0.0)\n",
      "Requirement already satisfied: numba>=0.54 in c:\\users\\dell\\anaconda3\\lib\\site-packages (from shap) (0.56.4)\n",
      "Requirement already satisfied: packaging>20.9 in c:\\users\\dell\\anaconda3\\lib\\site-packages (from shap) (24.1)\n",
      "Requirement already satisfied: scikit-learn in c:\\users\\dell\\anaconda3\\lib\\site-packages (from shap) (1.6.1)\n",
      "Requirement already satisfied: setuptools in c:\\users\\dell\\anaconda3\\lib\\site-packages (from numba>=0.54->shap) (65.6.3)\n",
      "Requirement already satisfied: llvmlite<0.40,>=0.39.0dev0 in c:\\users\\dell\\anaconda3\\lib\\site-packages (from numba>=0.54->shap) (0.39.1)\n",
      "Requirement already satisfied: colorama in c:\\users\\dell\\anaconda3\\lib\\site-packages (from tqdm>=4.27.0->shap) (0.4.6)\n",
      "Requirement already satisfied: pytz>=2020.1 in c:\\users\\dell\\anaconda3\\lib\\site-packages (from pandas->shap) (2022.7)\n",
      "Requirement already satisfied: tzdata>=2022.7 in c:\\users\\dell\\anaconda3\\lib\\site-packages (from pandas->shap) (2024.2)\n",
      "Requirement already satisfied: python-dateutil>=2.8.2 in c:\\users\\dell\\anaconda3\\lib\\site-packages (from pandas->shap) (2.8.2)\n",
      "Requirement already satisfied: threadpoolctl>=3.1.0 in c:\\users\\dell\\anaconda3\\lib\\site-packages (from scikit-learn->shap) (3.5.0)\n",
      "Requirement already satisfied: joblib>=1.2.0 in c:\\users\\dell\\anaconda3\\lib\\site-packages (from scikit-learn->shap) (1.4.2)\n",
      "Requirement already satisfied: six>=1.5 in c:\\users\\dell\\anaconda3\\lib\\site-packages (from python-dateutil>=2.8.2->pandas->shap) (1.16.0)\n",
      "Note: you may need to restart the kernel to use updated packages.\n"
     ]
    }
   ],
   "source": [
    "pip install shap"
   ]
  },
  {
   "cell_type": "code",
   "execution_count": 3,
   "id": "3d742ea1",
   "metadata": {},
   "outputs": [
    {
     "name": "stdout",
     "output_type": "stream",
     "text": [
      "Collecting xgboost\n",
      "  Downloading xgboost-3.0.0-py3-none-win_amd64.whl (150.0 MB)\n",
      "     -------------------------------------- 150.0/150.0 MB 5.5 MB/s eta 0:00:00\n",
      "Requirement already satisfied: numpy in c:\\users\\dell\\anaconda3\\lib\\site-packages (from xgboost) (1.23.5)\n",
      "Requirement already satisfied: scipy in c:\\users\\dell\\anaconda3\\lib\\site-packages (from xgboost) (1.15.1)\n",
      "Installing collected packages: xgboost\n",
      "Successfully installed xgboost-3.0.0\n",
      "Note: you may need to restart the kernel to use updated packages.\n"
     ]
    }
   ],
   "source": [
    "pip install xgboost"
   ]
  },
  {
   "cell_type": "code",
   "execution_count": 21,
   "id": "22dbc175",
   "metadata": {},
   "outputs": [],
   "source": [
    "import pandas as pd\n",
    "import numpy as np\n",
    "import seaborn as sns\n",
    "import matplotlib.pyplot as plt\n",
    "from sklearn.preprocessing import StandardScaler\n",
    "from sklearn.model_selection import train_test_split, cross_val_score\n",
    "from sklearn.linear_model import LinearRegression\n",
    "from sklearn.ensemble import RandomForestRegressor\n",
    "from xgboost import XGBRegressor\n",
    "from sklearn.metrics import mean_squared_error,mean_absolute_error, r2_score\n",
    "from tensorflow.keras.models import Sequential\n",
    "from tensorflow.keras.layers import Dense\n",
    "from sklearn.inspection import permutation_importance\n",
    "import shap"
   ]
  },
  {
   "cell_type": "code",
   "execution_count": 2,
   "id": "5a6d4e6e",
   "metadata": {},
   "outputs": [
    {
     "data": {
      "text/html": [
       "<div>\n",
       "<style scoped>\n",
       "    .dataframe tbody tr th:only-of-type {\n",
       "        vertical-align: middle;\n",
       "    }\n",
       "\n",
       "    .dataframe tbody tr th {\n",
       "        vertical-align: top;\n",
       "    }\n",
       "\n",
       "    .dataframe thead th {\n",
       "        text-align: right;\n",
       "    }\n",
       "</style>\n",
       "<table border=\"1\" class=\"dataframe\">\n",
       "  <thead>\n",
       "    <tr style=\"text-align: right;\">\n",
       "      <th></th>\n",
       "      <th>Age</th>\n",
       "      <th>Diabetes</th>\n",
       "      <th>BloodPressureProblems</th>\n",
       "      <th>AnyTransplants</th>\n",
       "      <th>AnyChronicDiseases</th>\n",
       "      <th>Height</th>\n",
       "      <th>Weight</th>\n",
       "      <th>KnownAllergies</th>\n",
       "      <th>HistoryOfCancerInFamily</th>\n",
       "      <th>NumberOfMajorSurgeries</th>\n",
       "      <th>PremiumPrice</th>\n",
       "    </tr>\n",
       "  </thead>\n",
       "  <tbody>\n",
       "    <tr>\n",
       "      <th>0</th>\n",
       "      <td>45</td>\n",
       "      <td>0</td>\n",
       "      <td>0</td>\n",
       "      <td>0</td>\n",
       "      <td>0</td>\n",
       "      <td>155</td>\n",
       "      <td>57</td>\n",
       "      <td>0</td>\n",
       "      <td>0</td>\n",
       "      <td>0</td>\n",
       "      <td>25000</td>\n",
       "    </tr>\n",
       "    <tr>\n",
       "      <th>1</th>\n",
       "      <td>60</td>\n",
       "      <td>1</td>\n",
       "      <td>0</td>\n",
       "      <td>0</td>\n",
       "      <td>0</td>\n",
       "      <td>180</td>\n",
       "      <td>73</td>\n",
       "      <td>0</td>\n",
       "      <td>0</td>\n",
       "      <td>0</td>\n",
       "      <td>29000</td>\n",
       "    </tr>\n",
       "    <tr>\n",
       "      <th>2</th>\n",
       "      <td>36</td>\n",
       "      <td>1</td>\n",
       "      <td>1</td>\n",
       "      <td>0</td>\n",
       "      <td>0</td>\n",
       "      <td>158</td>\n",
       "      <td>59</td>\n",
       "      <td>0</td>\n",
       "      <td>0</td>\n",
       "      <td>1</td>\n",
       "      <td>23000</td>\n",
       "    </tr>\n",
       "    <tr>\n",
       "      <th>3</th>\n",
       "      <td>52</td>\n",
       "      <td>1</td>\n",
       "      <td>1</td>\n",
       "      <td>0</td>\n",
       "      <td>1</td>\n",
       "      <td>183</td>\n",
       "      <td>93</td>\n",
       "      <td>0</td>\n",
       "      <td>0</td>\n",
       "      <td>2</td>\n",
       "      <td>28000</td>\n",
       "    </tr>\n",
       "    <tr>\n",
       "      <th>4</th>\n",
       "      <td>38</td>\n",
       "      <td>0</td>\n",
       "      <td>0</td>\n",
       "      <td>0</td>\n",
       "      <td>1</td>\n",
       "      <td>166</td>\n",
       "      <td>88</td>\n",
       "      <td>0</td>\n",
       "      <td>0</td>\n",
       "      <td>1</td>\n",
       "      <td>23000</td>\n",
       "    </tr>\n",
       "  </tbody>\n",
       "</table>\n",
       "</div>"
      ],
      "text/plain": [
       "   Age  Diabetes  BloodPressureProblems  AnyTransplants  AnyChronicDiseases  \\\n",
       "0   45         0                      0               0                   0   \n",
       "1   60         1                      0               0                   0   \n",
       "2   36         1                      1               0                   0   \n",
       "3   52         1                      1               0                   1   \n",
       "4   38         0                      0               0                   1   \n",
       "\n",
       "   Height  Weight  KnownAllergies  HistoryOfCancerInFamily  \\\n",
       "0     155      57               0                        0   \n",
       "1     180      73               0                        0   \n",
       "2     158      59               0                        0   \n",
       "3     183      93               0                        0   \n",
       "4     166      88               0                        0   \n",
       "\n",
       "   NumberOfMajorSurgeries  PremiumPrice  \n",
       "0                       0         25000  \n",
       "1                       0         29000  \n",
       "2                       1         23000  \n",
       "3                       2         28000  \n",
       "4                       1         23000  "
      ]
     },
     "execution_count": 2,
     "metadata": {},
     "output_type": "execute_result"
    }
   ],
   "source": [
    "# Load dataset (replace with your data)\n",
    "data = pd.read_csv('C://Users//dell//OneDrive//Desktop//Scaler Certificates//Project Portfolio//Insurance Cost Prediction//insurance.csv')\n",
    "data.head()"
   ]
  },
  {
   "cell_type": "code",
   "execution_count": 3,
   "id": "353c975f",
   "metadata": {},
   "outputs": [
    {
     "name": "stdout",
     "output_type": "stream",
     "text": [
      "Missing values:\n",
      " Age                        0\n",
      "Diabetes                   0\n",
      "BloodPressureProblems      0\n",
      "AnyTransplants             0\n",
      "AnyChronicDiseases         0\n",
      "Height                     0\n",
      "Weight                     0\n",
      "KnownAllergies             0\n",
      "HistoryOfCancerInFamily    0\n",
      "NumberOfMajorSurgeries     0\n",
      "PremiumPrice               0\n",
      "dtype: int64\n"
     ]
    }
   ],
   "source": [
    "# Handling Missing Values\n",
    "# Check for missing values\n",
    "print(\"Missing values:\\n\", data.isnull().sum())"
   ]
  },
  {
   "cell_type": "code",
   "execution_count": 4,
   "id": "eb9b9bdc",
   "metadata": {},
   "outputs": [],
   "source": [
    "# Feature Engineering\n",
    "# Calculate BMI: Weight (kg) / (Height (m))^2\n",
    "data['BMI'] = data['Weight'] / ((data['Height'] / 100) ** 2)"
   ]
  },
  {
   "cell_type": "code",
   "execution_count": 5,
   "id": "747ebd1c",
   "metadata": {
    "scrolled": false
   },
   "outputs": [
    {
     "data": {
      "text/html": [
       "<div>\n",
       "<style scoped>\n",
       "    .dataframe tbody tr th:only-of-type {\n",
       "        vertical-align: middle;\n",
       "    }\n",
       "\n",
       "    .dataframe tbody tr th {\n",
       "        vertical-align: top;\n",
       "    }\n",
       "\n",
       "    .dataframe thead th {\n",
       "        text-align: right;\n",
       "    }\n",
       "</style>\n",
       "<table border=\"1\" class=\"dataframe\">\n",
       "  <thead>\n",
       "    <tr style=\"text-align: right;\">\n",
       "      <th></th>\n",
       "      <th>Age</th>\n",
       "      <th>Diabetes</th>\n",
       "      <th>BloodPressureProblems</th>\n",
       "      <th>AnyTransplants</th>\n",
       "      <th>AnyChronicDiseases</th>\n",
       "      <th>Height</th>\n",
       "      <th>Weight</th>\n",
       "      <th>KnownAllergies</th>\n",
       "      <th>HistoryOfCancerInFamily</th>\n",
       "      <th>NumberOfMajorSurgeries</th>\n",
       "      <th>PremiumPrice</th>\n",
       "      <th>BMI</th>\n",
       "    </tr>\n",
       "  </thead>\n",
       "  <tbody>\n",
       "    <tr>\n",
       "      <th>0</th>\n",
       "      <td>45</td>\n",
       "      <td>0</td>\n",
       "      <td>0</td>\n",
       "      <td>0</td>\n",
       "      <td>0</td>\n",
       "      <td>155</td>\n",
       "      <td>57</td>\n",
       "      <td>0</td>\n",
       "      <td>0</td>\n",
       "      <td>0</td>\n",
       "      <td>25000</td>\n",
       "      <td>23.725286</td>\n",
       "    </tr>\n",
       "    <tr>\n",
       "      <th>1</th>\n",
       "      <td>60</td>\n",
       "      <td>1</td>\n",
       "      <td>0</td>\n",
       "      <td>0</td>\n",
       "      <td>0</td>\n",
       "      <td>180</td>\n",
       "      <td>73</td>\n",
       "      <td>0</td>\n",
       "      <td>0</td>\n",
       "      <td>0</td>\n",
       "      <td>29000</td>\n",
       "      <td>22.530864</td>\n",
       "    </tr>\n",
       "    <tr>\n",
       "      <th>2</th>\n",
       "      <td>36</td>\n",
       "      <td>1</td>\n",
       "      <td>1</td>\n",
       "      <td>0</td>\n",
       "      <td>0</td>\n",
       "      <td>158</td>\n",
       "      <td>59</td>\n",
       "      <td>0</td>\n",
       "      <td>0</td>\n",
       "      <td>1</td>\n",
       "      <td>23000</td>\n",
       "      <td>23.634033</td>\n",
       "    </tr>\n",
       "    <tr>\n",
       "      <th>3</th>\n",
       "      <td>52</td>\n",
       "      <td>1</td>\n",
       "      <td>1</td>\n",
       "      <td>0</td>\n",
       "      <td>1</td>\n",
       "      <td>183</td>\n",
       "      <td>93</td>\n",
       "      <td>0</td>\n",
       "      <td>0</td>\n",
       "      <td>2</td>\n",
       "      <td>28000</td>\n",
       "      <td>27.770313</td>\n",
       "    </tr>\n",
       "    <tr>\n",
       "      <th>4</th>\n",
       "      <td>38</td>\n",
       "      <td>0</td>\n",
       "      <td>0</td>\n",
       "      <td>0</td>\n",
       "      <td>1</td>\n",
       "      <td>166</td>\n",
       "      <td>88</td>\n",
       "      <td>0</td>\n",
       "      <td>0</td>\n",
       "      <td>1</td>\n",
       "      <td>23000</td>\n",
       "      <td>31.934969</td>\n",
       "    </tr>\n",
       "  </tbody>\n",
       "</table>\n",
       "</div>"
      ],
      "text/plain": [
       "   Age  Diabetes  BloodPressureProblems  AnyTransplants  AnyChronicDiseases  \\\n",
       "0   45         0                      0               0                   0   \n",
       "1   60         1                      0               0                   0   \n",
       "2   36         1                      1               0                   0   \n",
       "3   52         1                      1               0                   1   \n",
       "4   38         0                      0               0                   1   \n",
       "\n",
       "   Height  Weight  KnownAllergies  HistoryOfCancerInFamily  \\\n",
       "0     155      57               0                        0   \n",
       "1     180      73               0                        0   \n",
       "2     158      59               0                        0   \n",
       "3     183      93               0                        0   \n",
       "4     166      88               0                        0   \n",
       "\n",
       "   NumberOfMajorSurgeries  PremiumPrice        BMI  \n",
       "0                       0         25000  23.725286  \n",
       "1                       0         29000  22.530864  \n",
       "2                       1         23000  23.634033  \n",
       "3                       2         28000  27.770313  \n",
       "4                       1         23000  31.934969  "
      ]
     },
     "execution_count": 5,
     "metadata": {},
     "output_type": "execute_result"
    }
   ],
   "source": [
    "data.head()"
   ]
  },
  {
   "cell_type": "code",
   "execution_count": 6,
   "id": "804d3f72",
   "metadata": {},
   "outputs": [],
   "source": [
    "# Scaling and Encoding\n",
    "# Numerical features to scale\n",
    "numerical_features = ['Age', 'Height', 'Weight', 'BMI', 'NumberOfMajorSurgeries']"
   ]
  },
  {
   "cell_type": "code",
   "execution_count": 7,
   "id": "4dd3c7bc",
   "metadata": {},
   "outputs": [],
   "source": [
    "# Apply StandardScaler\n",
    "scaler = StandardScaler()\n",
    "data[numerical_features] = scaler.fit_transform(data[numerical_features])"
   ]
  },
  {
   "cell_type": "code",
   "execution_count": 8,
   "id": "94ad5e8e",
   "metadata": {},
   "outputs": [],
   "source": [
    "# Binary features (already 0/1) need no encoding\n",
    "categorical_features = ['Diabetes', 'BloodPressureProblems', 'AnyTransplants', \n",
    "                       'AnyChronicDiseases', 'KnownAllergies', 'HistoryOfCancerInFamily']"
   ]
  },
  {
   "cell_type": "code",
   "execution_count": 9,
   "id": "856cee3e",
   "metadata": {},
   "outputs": [
    {
     "name": "stdout",
     "output_type": "stream",
     "text": [
      "\n",
      "Preprocessed Data Sample:\n",
      "         Age  Diabetes  BloodPressureProblems  AnyTransplants  \\\n",
      "0  0.233197         0                      0               0   \n",
      "1  1.307981         1                      0               0   \n",
      "2 -0.411674         1                      1               0   \n",
      "3  0.734763         1                      1               0   \n",
      "4 -0.268369         0                      0               0   \n",
      "\n",
      "   AnyChronicDiseases    Height    Weight  KnownAllergies  \\\n",
      "0                   0 -1.306105 -1.399250               0   \n",
      "1                   0  1.170852 -0.277062               0   \n",
      "2                   0 -1.008870 -1.258976               0   \n",
      "3                   1  1.468086  1.125674               0   \n",
      "4                   1 -0.216244  0.774990               0   \n",
      "\n",
      "   HistoryOfCancerInFamily  NumberOfMajorSurgeries  PremiumPrice       BMI  \n",
      "0                        0               -0.891187         25000 -0.635742  \n",
      "1                        0               -0.891187         29000 -0.839024  \n",
      "2                        0                0.444239         23000 -0.651273  \n",
      "3                        0                1.779665         28000  0.052692  \n",
      "4                        0                0.444239         23000  0.761487  \n"
     ]
    }
   ],
   "source": [
    "# Verify preprocessing\n",
    "print(\"\\nPreprocessed Data Sample:\\n\", data.head())"
   ]
  },
  {
   "cell_type": "markdown",
   "id": "abb78fc0",
   "metadata": {},
   "source": [
    "***2. Model Selection:***\n",
    "* Linear Regression: Start with a simple model to establish a baseline for prediction accuracy.\n",
    "* Tree-based Models: Implement models like Decision Trees, Random Forests, and Gradient Boosting Machines for their ability to handle non-linear relationships and feature importance analysis.\n",
    "* Neural Networks: Explore more complex models like neural networks if the initial models show promising results but require more flexibility in capturing interactions."
   ]
  },
  {
   "cell_type": "code",
   "execution_count": 11,
   "id": "befb092a",
   "metadata": {},
   "outputs": [],
   "source": [
    "# Define features (X) and target (y)\n",
    "X = data.drop('PremiumPrice', axis=1)\n",
    "y = data['PremiumPrice']"
   ]
  },
  {
   "cell_type": "code",
   "execution_count": 12,
   "id": "35af712f",
   "metadata": {},
   "outputs": [],
   "source": [
    "# Split data into train and test sets\n",
    "X_train, X_test, y_train, y_test = train_test_split(X, y, test_size=0.2, random_state=42)"
   ]
  },
  {
   "cell_type": "code",
   "execution_count": 13,
   "id": "6ff58202",
   "metadata": {},
   "outputs": [],
   "source": [
    "# Initialize models\n",
    "models = {\n",
    "    'Linear Regression': LinearRegression(),\n",
    "    'Random Forest': RandomForestRegressor(n_estimators=100, random_state=42),\n",
    "    'XGBoost': XGBRegressor(n_estimators=100, random_state=42)\n",
    "}"
   ]
  },
  {
   "cell_type": "code",
   "execution_count": 14,
   "id": "72cc8cbb",
   "metadata": {},
   "outputs": [
    {
     "name": "stdout",
     "output_type": "stream",
     "text": [
      "Model Performance (RMSE):\n",
      "Linear Regression: 3494.41\n",
      "Linear Regression (5-fold CV RMSE): 3794.99\n",
      "\n",
      "Random Forest: 2140.00\n",
      "Random Forest (5-fold CV RMSE): 2884.21\n",
      "\n",
      "XGBoost: 2715.05\n",
      "XGBoost (5-fold CV RMSE): 3051.15\n",
      "\n"
     ]
    }
   ],
   "source": [
    "# Train and evaluate models\n",
    "print(\"Model Performance (RMSE):\")\n",
    "for name, model in models.items():\n",
    "    # Train model\n",
    "    model.fit(X_train, y_train)\n",
    "    # Predict on test set\n",
    "    y_pred = model.predict(X_test)\n",
    "    # Calculate RMSE\n",
    "    rmse = np.sqrt(mean_squared_error(y_test, y_pred))\n",
    "    print(f\"{name}: {rmse:.2f}\")\n",
    "    \n",
    "    # Cross-validation (5-fold)\n",
    "    cv_scores = cross_val_score(model, X, y, cv=5, scoring='neg_mean_squared_error')\n",
    "    cv_rmse = np.sqrt(-cv_scores.mean())\n",
    "    print(f\"{name} (5-fold CV RMSE): {cv_rmse:.2f}\\n\")"
   ]
  },
  {
   "cell_type": "code",
   "execution_count": 15,
   "id": "f612d47d",
   "metadata": {},
   "outputs": [
    {
     "name": "stderr",
     "output_type": "stream",
     "text": [
      "C:\\Users\\dell\\anaconda3\\lib\\site-packages\\keras\\src\\layers\\core\\dense.py:87: UserWarning: Do not pass an `input_shape`/`input_dim` argument to a layer. When using Sequential models, prefer using an `Input(shape)` object as the first layer in the model instead.\n",
      "  super().__init__(activity_regularizer=activity_regularizer, **kwargs)\n"
     ]
    }
   ],
   "source": [
    "# Neural Network\n",
    "nn_model = Sequential([\n",
    "    Dense(64, activation='relu', input_shape=(X_train.shape[1],)),\n",
    "    Dense(32, activation='relu'),\n",
    "    Dense(1)  # Output layer for regression\n",
    "])\n",
    "nn_model.compile(optimizer='adam', loss='mse')"
   ]
  },
  {
   "cell_type": "code",
   "execution_count": 16,
   "id": "a123e8eb",
   "metadata": {},
   "outputs": [
    {
     "data": {
      "text/plain": [
       "<keras.src.callbacks.history.History at 0x2662dcb6590>"
      ]
     },
     "execution_count": 16,
     "metadata": {},
     "output_type": "execute_result"
    }
   ],
   "source": [
    "# Train Neural Network\n",
    "nn_model.fit(X_train, y_train, epochs=50, batch_size=32, verbose=0)"
   ]
  },
  {
   "cell_type": "code",
   "execution_count": 17,
   "id": "5218eaeb",
   "metadata": {},
   "outputs": [
    {
     "name": "stdout",
     "output_type": "stream",
     "text": [
      "Neural Network: 8680.16\n"
     ]
    }
   ],
   "source": [
    "# Evaluate Neural Network\n",
    "y_pred_nn = nn_model.predict(X_test, verbose=0)\n",
    "rmse_nn = np.sqrt(mean_squared_error(y_test, y_pred_nn))\n",
    "print(f\"Neural Network: {rmse_nn:.2f}\")"
   ]
  },
  {
   "cell_type": "code",
   "execution_count": 18,
   "id": "44cade6a",
   "metadata": {},
   "outputs": [
    {
     "name": "stdout",
     "output_type": "stream",
     "text": [
      "\n",
      "Random Forest Feature Importance:\n",
      " Age                        0.618922\n",
      "AnyTransplants             0.095502\n",
      "Weight                     0.085925\n",
      "BMI                        0.054768\n",
      "AnyChronicDiseases         0.037926\n",
      "NumberOfMajorSurgeries     0.035694\n",
      "Height                     0.030771\n",
      "HistoryOfCancerInFamily    0.022666\n",
      "BloodPressureProblems      0.009113\n",
      "Diabetes                   0.005543\n",
      "KnownAllergies             0.003170\n",
      "dtype: float64\n"
     ]
    }
   ],
   "source": [
    "# Feature importance for Random Forest (example)\n",
    "rf_model = models['Random Forest']\n",
    "feature_importance = pd.Series(rf_model.feature_importances_, index=X.columns).sort_values(ascending=False)\n",
    "print(\"\\nRandom Forest Feature Importance:\\n\", feature_importance)"
   ]
  },
  {
   "cell_type": "markdown",
   "id": "13acfc40",
   "metadata": {},
   "source": [
    "***3. Model Evaluation and Validation:***\n",
    "* Cross-Validation: Use techniques like k-fold cross-validation to ensure that the model performs well across different subsets of the dataset.\n",
    "* Performance Metrics: Depending on the business objective, use metrics like RMSE (Root Mean Squared Error), MAE (Mean Absolute Error), or R² (Coefficient of Determination) to evaluate model performance.\n",
    "* Confidence Intervals/Prediction Intervals: Provide these intervals along with predictions to give users an idea of prediction reliability."
   ]
  },
  {
   "cell_type": "code",
   "execution_count": 19,
   "id": "60fb2809",
   "metadata": {},
   "outputs": [],
   "source": [
    "# Function to compute metrics\n",
    "def evaluate_model(y_true, y_pred, model_name):\n",
    "    rmse = np.sqrt(mean_squared_error(y_true, y_pred))\n",
    "    mae = mean_absolute_error(y_true, y_pred)\n",
    "    r2 = r2_score(y_true, y_pred)\n",
    "    print(f\"{model_name} - RMSE: {rmse:.2f}, MAE: {mae:.2f}, R²: {r2:.2f}\")\n",
    "    return rmse, mae, r2"
   ]
  },
  {
   "cell_type": "code",
   "execution_count": 22,
   "id": "7ef84212",
   "metadata": {},
   "outputs": [
    {
     "name": "stdout",
     "output_type": "stream",
     "text": [
      "Model Evaluation (Test Set and 5-fold CV):\n",
      "Linear Regression - RMSE: 3494.41, MAE: 2586.18, R²: 0.71\n",
      "Linear Regression (5-fold CV) - RMSE: 3794.99, MAE: 2704.69, R²: 0.63\n",
      "\n",
      "Random Forest - RMSE: 2140.00, MAE: 1024.29, R²: 0.89\n",
      "Random Forest (5-fold CV) - RMSE: 2884.21, MAE: 1134.72, R²: 0.79\n",
      "\n",
      "XGBoost - RMSE: 2715.05, MAE: 1341.17, R²: 0.83\n",
      "XGBoost (5-fold CV) - RMSE: 3051.15, MAE: 1401.08, R²: 0.76\n",
      "\n"
     ]
    }
   ],
   "source": [
    "# Cross-Validation and Metrics\n",
    "print(\"Model Evaluation (Test Set and 5-fold CV):\")\n",
    "for name, model in models.items():\n",
    "    # Train model\n",
    "    model.fit(X_train, y_train)\n",
    "    # Test set predictions\n",
    "    y_pred = model.predict(X_test)\n",
    "    # Evaluate on test set\n",
    "    evaluate_model(y_test, y_pred, name)\n",
    "    \n",
    "    # 5-fold cross-validation\n",
    "    cv_rmse = np.sqrt(-cross_val_score(model, X, y, cv=5, scoring='neg_mean_squared_error').mean())\n",
    "    cv_mae = -cross_val_score(model, X, y, cv=5, scoring='neg_mean_absolute_error').mean()\n",
    "    cv_r2 = cross_val_score(model, X, y, cv=5, scoring='r2').mean()\n",
    "    print(f\"{name} (5-fold CV) - RMSE: {cv_rmse:.2f}, MAE: {cv_mae:.2f}, R²: {cv_r2:.2f}\\n\")"
   ]
  },
  {
   "cell_type": "code",
   "execution_count": 23,
   "id": "5664c6ec",
   "metadata": {},
   "outputs": [
    {
     "name": "stderr",
     "output_type": "stream",
     "text": [
      "C:\\Users\\dell\\anaconda3\\lib\\site-packages\\keras\\src\\layers\\core\\dense.py:87: UserWarning: Do not pass an `input_shape`/`input_dim` argument to a layer. When using Sequential models, prefer using an `Input(shape)` object as the first layer in the model instead.\n",
      "  super().__init__(activity_regularizer=activity_regularizer, **kwargs)\n"
     ]
    },
    {
     "name": "stdout",
     "output_type": "stream",
     "text": [
      "Neural Network - RMSE: 8777.33, MAE: 7167.53, R²: -0.81\n",
      "\n"
     ]
    }
   ],
   "source": [
    "# Neural Network\n",
    "nn_model = Sequential([\n",
    "    Dense(64, activation='relu', input_shape=(X_train.shape[1],)),\n",
    "    Dense(32, activation='relu'),\n",
    "    Dense(1)\n",
    "])\n",
    "nn_model.compile(optimizer='adam', loss='mse')\n",
    "nn_model.fit(X_train, y_train, epochs=50, batch_size=32, verbose=0)\n",
    "y_pred_nn = nn_model.predict(X_test, verbose=0).flatten()\n",
    "evaluate_model(y_test, y_pred_nn, \"Neural Network\")\n",
    "print()"
   ]
  },
  {
   "cell_type": "code",
   "execution_count": 24,
   "id": "e53adf1d",
   "metadata": {
    "scrolled": false
   },
   "outputs": [
    {
     "name": "stderr",
     "output_type": "stream",
     "text": [
      "C:\\Users\\dell\\anaconda3\\lib\\site-packages\\sklearn\\utils\\validation.py:2732: UserWarning: X has feature names, but DecisionTreeRegressor was fitted without feature names\n",
      "  warnings.warn(\n",
      "C:\\Users\\dell\\anaconda3\\lib\\site-packages\\sklearn\\utils\\validation.py:2732: UserWarning: X has feature names, but DecisionTreeRegressor was fitted without feature names\n",
      "  warnings.warn(\n",
      "C:\\Users\\dell\\anaconda3\\lib\\site-packages\\sklearn\\utils\\validation.py:2732: UserWarning: X has feature names, but DecisionTreeRegressor was fitted without feature names\n",
      "  warnings.warn(\n",
      "C:\\Users\\dell\\anaconda3\\lib\\site-packages\\sklearn\\utils\\validation.py:2732: UserWarning: X has feature names, but DecisionTreeRegressor was fitted without feature names\n",
      "  warnings.warn(\n",
      "C:\\Users\\dell\\anaconda3\\lib\\site-packages\\sklearn\\utils\\validation.py:2732: UserWarning: X has feature names, but DecisionTreeRegressor was fitted without feature names\n",
      "  warnings.warn(\n",
      "C:\\Users\\dell\\anaconda3\\lib\\site-packages\\sklearn\\utils\\validation.py:2732: UserWarning: X has feature names, but DecisionTreeRegressor was fitted without feature names\n",
      "  warnings.warn(\n",
      "C:\\Users\\dell\\anaconda3\\lib\\site-packages\\sklearn\\utils\\validation.py:2732: UserWarning: X has feature names, but DecisionTreeRegressor was fitted without feature names\n",
      "  warnings.warn(\n",
      "C:\\Users\\dell\\anaconda3\\lib\\site-packages\\sklearn\\utils\\validation.py:2732: UserWarning: X has feature names, but DecisionTreeRegressor was fitted without feature names\n",
      "  warnings.warn(\n",
      "C:\\Users\\dell\\anaconda3\\lib\\site-packages\\sklearn\\utils\\validation.py:2732: UserWarning: X has feature names, but DecisionTreeRegressor was fitted without feature names\n",
      "  warnings.warn(\n",
      "C:\\Users\\dell\\anaconda3\\lib\\site-packages\\sklearn\\utils\\validation.py:2732: UserWarning: X has feature names, but DecisionTreeRegressor was fitted without feature names\n",
      "  warnings.warn(\n",
      "C:\\Users\\dell\\anaconda3\\lib\\site-packages\\sklearn\\utils\\validation.py:2732: UserWarning: X has feature names, but DecisionTreeRegressor was fitted without feature names\n",
      "  warnings.warn(\n",
      "C:\\Users\\dell\\anaconda3\\lib\\site-packages\\sklearn\\utils\\validation.py:2732: UserWarning: X has feature names, but DecisionTreeRegressor was fitted without feature names\n",
      "  warnings.warn(\n",
      "C:\\Users\\dell\\anaconda3\\lib\\site-packages\\sklearn\\utils\\validation.py:2732: UserWarning: X has feature names, but DecisionTreeRegressor was fitted without feature names\n",
      "  warnings.warn(\n",
      "C:\\Users\\dell\\anaconda3\\lib\\site-packages\\sklearn\\utils\\validation.py:2732: UserWarning: X has feature names, but DecisionTreeRegressor was fitted without feature names\n",
      "  warnings.warn(\n",
      "C:\\Users\\dell\\anaconda3\\lib\\site-packages\\sklearn\\utils\\validation.py:2732: UserWarning: X has feature names, but DecisionTreeRegressor was fitted without feature names\n",
      "  warnings.warn(\n",
      "C:\\Users\\dell\\anaconda3\\lib\\site-packages\\sklearn\\utils\\validation.py:2732: UserWarning: X has feature names, but DecisionTreeRegressor was fitted without feature names\n",
      "  warnings.warn(\n",
      "C:\\Users\\dell\\anaconda3\\lib\\site-packages\\sklearn\\utils\\validation.py:2732: UserWarning: X has feature names, but DecisionTreeRegressor was fitted without feature names\n",
      "  warnings.warn(\n",
      "C:\\Users\\dell\\anaconda3\\lib\\site-packages\\sklearn\\utils\\validation.py:2732: UserWarning: X has feature names, but DecisionTreeRegressor was fitted without feature names\n",
      "  warnings.warn(\n",
      "C:\\Users\\dell\\anaconda3\\lib\\site-packages\\sklearn\\utils\\validation.py:2732: UserWarning: X has feature names, but DecisionTreeRegressor was fitted without feature names\n",
      "  warnings.warn(\n",
      "C:\\Users\\dell\\anaconda3\\lib\\site-packages\\sklearn\\utils\\validation.py:2732: UserWarning: X has feature names, but DecisionTreeRegressor was fitted without feature names\n",
      "  warnings.warn(\n",
      "C:\\Users\\dell\\anaconda3\\lib\\site-packages\\sklearn\\utils\\validation.py:2732: UserWarning: X has feature names, but DecisionTreeRegressor was fitted without feature names\n",
      "  warnings.warn(\n",
      "C:\\Users\\dell\\anaconda3\\lib\\site-packages\\sklearn\\utils\\validation.py:2732: UserWarning: X has feature names, but DecisionTreeRegressor was fitted without feature names\n",
      "  warnings.warn(\n",
      "C:\\Users\\dell\\anaconda3\\lib\\site-packages\\sklearn\\utils\\validation.py:2732: UserWarning: X has feature names, but DecisionTreeRegressor was fitted without feature names\n",
      "  warnings.warn(\n",
      "C:\\Users\\dell\\anaconda3\\lib\\site-packages\\sklearn\\utils\\validation.py:2732: UserWarning: X has feature names, but DecisionTreeRegressor was fitted without feature names\n",
      "  warnings.warn(\n",
      "C:\\Users\\dell\\anaconda3\\lib\\site-packages\\sklearn\\utils\\validation.py:2732: UserWarning: X has feature names, but DecisionTreeRegressor was fitted without feature names\n",
      "  warnings.warn(\n",
      "C:\\Users\\dell\\anaconda3\\lib\\site-packages\\sklearn\\utils\\validation.py:2732: UserWarning: X has feature names, but DecisionTreeRegressor was fitted without feature names\n",
      "  warnings.warn(\n",
      "C:\\Users\\dell\\anaconda3\\lib\\site-packages\\sklearn\\utils\\validation.py:2732: UserWarning: X has feature names, but DecisionTreeRegressor was fitted without feature names\n",
      "  warnings.warn(\n",
      "C:\\Users\\dell\\anaconda3\\lib\\site-packages\\sklearn\\utils\\validation.py:2732: UserWarning: X has feature names, but DecisionTreeRegressor was fitted without feature names\n",
      "  warnings.warn(\n",
      "C:\\Users\\dell\\anaconda3\\lib\\site-packages\\sklearn\\utils\\validation.py:2732: UserWarning: X has feature names, but DecisionTreeRegressor was fitted without feature names\n",
      "  warnings.warn(\n",
      "C:\\Users\\dell\\anaconda3\\lib\\site-packages\\sklearn\\utils\\validation.py:2732: UserWarning: X has feature names, but DecisionTreeRegressor was fitted without feature names\n",
      "  warnings.warn(\n",
      "C:\\Users\\dell\\anaconda3\\lib\\site-packages\\sklearn\\utils\\validation.py:2732: UserWarning: X has feature names, but DecisionTreeRegressor was fitted without feature names\n",
      "  warnings.warn(\n",
      "C:\\Users\\dell\\anaconda3\\lib\\site-packages\\sklearn\\utils\\validation.py:2732: UserWarning: X has feature names, but DecisionTreeRegressor was fitted without feature names\n",
      "  warnings.warn(\n",
      "C:\\Users\\dell\\anaconda3\\lib\\site-packages\\sklearn\\utils\\validation.py:2732: UserWarning: X has feature names, but DecisionTreeRegressor was fitted without feature names\n",
      "  warnings.warn(\n",
      "C:\\Users\\dell\\anaconda3\\lib\\site-packages\\sklearn\\utils\\validation.py:2732: UserWarning: X has feature names, but DecisionTreeRegressor was fitted without feature names\n",
      "  warnings.warn(\n",
      "C:\\Users\\dell\\anaconda3\\lib\\site-packages\\sklearn\\utils\\validation.py:2732: UserWarning: X has feature names, but DecisionTreeRegressor was fitted without feature names\n",
      "  warnings.warn(\n",
      "C:\\Users\\dell\\anaconda3\\lib\\site-packages\\sklearn\\utils\\validation.py:2732: UserWarning: X has feature names, but DecisionTreeRegressor was fitted without feature names\n",
      "  warnings.warn(\n",
      "C:\\Users\\dell\\anaconda3\\lib\\site-packages\\sklearn\\utils\\validation.py:2732: UserWarning: X has feature names, but DecisionTreeRegressor was fitted without feature names\n",
      "  warnings.warn(\n",
      "C:\\Users\\dell\\anaconda3\\lib\\site-packages\\sklearn\\utils\\validation.py:2732: UserWarning: X has feature names, but DecisionTreeRegressor was fitted without feature names\n",
      "  warnings.warn(\n",
      "C:\\Users\\dell\\anaconda3\\lib\\site-packages\\sklearn\\utils\\validation.py:2732: UserWarning: X has feature names, but DecisionTreeRegressor was fitted without feature names\n",
      "  warnings.warn(\n",
      "C:\\Users\\dell\\anaconda3\\lib\\site-packages\\sklearn\\utils\\validation.py:2732: UserWarning: X has feature names, but DecisionTreeRegressor was fitted without feature names\n",
      "  warnings.warn(\n",
      "C:\\Users\\dell\\anaconda3\\lib\\site-packages\\sklearn\\utils\\validation.py:2732: UserWarning: X has feature names, but DecisionTreeRegressor was fitted without feature names\n",
      "  warnings.warn(\n",
      "C:\\Users\\dell\\anaconda3\\lib\\site-packages\\sklearn\\utils\\validation.py:2732: UserWarning: X has feature names, but DecisionTreeRegressor was fitted without feature names\n",
      "  warnings.warn(\n",
      "C:\\Users\\dell\\anaconda3\\lib\\site-packages\\sklearn\\utils\\validation.py:2732: UserWarning: X has feature names, but DecisionTreeRegressor was fitted without feature names\n",
      "  warnings.warn(\n",
      "C:\\Users\\dell\\anaconda3\\lib\\site-packages\\sklearn\\utils\\validation.py:2732: UserWarning: X has feature names, but DecisionTreeRegressor was fitted without feature names\n",
      "  warnings.warn(\n",
      "C:\\Users\\dell\\anaconda3\\lib\\site-packages\\sklearn\\utils\\validation.py:2732: UserWarning: X has feature names, but DecisionTreeRegressor was fitted without feature names\n",
      "  warnings.warn(\n",
      "C:\\Users\\dell\\anaconda3\\lib\\site-packages\\sklearn\\utils\\validation.py:2732: UserWarning: X has feature names, but DecisionTreeRegressor was fitted without feature names\n",
      "  warnings.warn(\n",
      "C:\\Users\\dell\\anaconda3\\lib\\site-packages\\sklearn\\utils\\validation.py:2732: UserWarning: X has feature names, but DecisionTreeRegressor was fitted without feature names\n",
      "  warnings.warn(\n",
      "C:\\Users\\dell\\anaconda3\\lib\\site-packages\\sklearn\\utils\\validation.py:2732: UserWarning: X has feature names, but DecisionTreeRegressor was fitted without feature names\n",
      "  warnings.warn(\n",
      "C:\\Users\\dell\\anaconda3\\lib\\site-packages\\sklearn\\utils\\validation.py:2732: UserWarning: X has feature names, but DecisionTreeRegressor was fitted without feature names\n",
      "  warnings.warn(\n",
      "C:\\Users\\dell\\anaconda3\\lib\\site-packages\\sklearn\\utils\\validation.py:2732: UserWarning: X has feature names, but DecisionTreeRegressor was fitted without feature names\n",
      "  warnings.warn(\n",
      "C:\\Users\\dell\\anaconda3\\lib\\site-packages\\sklearn\\utils\\validation.py:2732: UserWarning: X has feature names, but DecisionTreeRegressor was fitted without feature names\n",
      "  warnings.warn(\n",
      "C:\\Users\\dell\\anaconda3\\lib\\site-packages\\sklearn\\utils\\validation.py:2732: UserWarning: X has feature names, but DecisionTreeRegressor was fitted without feature names\n",
      "  warnings.warn(\n",
      "C:\\Users\\dell\\anaconda3\\lib\\site-packages\\sklearn\\utils\\validation.py:2732: UserWarning: X has feature names, but DecisionTreeRegressor was fitted without feature names\n",
      "  warnings.warn(\n",
      "C:\\Users\\dell\\anaconda3\\lib\\site-packages\\sklearn\\utils\\validation.py:2732: UserWarning: X has feature names, but DecisionTreeRegressor was fitted without feature names\n",
      "  warnings.warn(\n",
      "C:\\Users\\dell\\anaconda3\\lib\\site-packages\\sklearn\\utils\\validation.py:2732: UserWarning: X has feature names, but DecisionTreeRegressor was fitted without feature names\n",
      "  warnings.warn(\n",
      "C:\\Users\\dell\\anaconda3\\lib\\site-packages\\sklearn\\utils\\validation.py:2732: UserWarning: X has feature names, but DecisionTreeRegressor was fitted without feature names\n",
      "  warnings.warn(\n",
      "C:\\Users\\dell\\anaconda3\\lib\\site-packages\\sklearn\\utils\\validation.py:2732: UserWarning: X has feature names, but DecisionTreeRegressor was fitted without feature names\n",
      "  warnings.warn(\n",
      "C:\\Users\\dell\\anaconda3\\lib\\site-packages\\sklearn\\utils\\validation.py:2732: UserWarning: X has feature names, but DecisionTreeRegressor was fitted without feature names\n",
      "  warnings.warn(\n",
      "C:\\Users\\dell\\anaconda3\\lib\\site-packages\\sklearn\\utils\\validation.py:2732: UserWarning: X has feature names, but DecisionTreeRegressor was fitted without feature names\n",
      "  warnings.warn(\n",
      "C:\\Users\\dell\\anaconda3\\lib\\site-packages\\sklearn\\utils\\validation.py:2732: UserWarning: X has feature names, but DecisionTreeRegressor was fitted without feature names\n",
      "  warnings.warn(\n",
      "C:\\Users\\dell\\anaconda3\\lib\\site-packages\\sklearn\\utils\\validation.py:2732: UserWarning: X has feature names, but DecisionTreeRegressor was fitted without feature names\n",
      "  warnings.warn(\n",
      "C:\\Users\\dell\\anaconda3\\lib\\site-packages\\sklearn\\utils\\validation.py:2732: UserWarning: X has feature names, but DecisionTreeRegressor was fitted without feature names\n",
      "  warnings.warn(\n",
      "C:\\Users\\dell\\anaconda3\\lib\\site-packages\\sklearn\\utils\\validation.py:2732: UserWarning: X has feature names, but DecisionTreeRegressor was fitted without feature names\n",
      "  warnings.warn(\n",
      "C:\\Users\\dell\\anaconda3\\lib\\site-packages\\sklearn\\utils\\validation.py:2732: UserWarning: X has feature names, but DecisionTreeRegressor was fitted without feature names\n",
      "  warnings.warn(\n",
      "C:\\Users\\dell\\anaconda3\\lib\\site-packages\\sklearn\\utils\\validation.py:2732: UserWarning: X has feature names, but DecisionTreeRegressor was fitted without feature names\n",
      "  warnings.warn(\n",
      "C:\\Users\\dell\\anaconda3\\lib\\site-packages\\sklearn\\utils\\validation.py:2732: UserWarning: X has feature names, but DecisionTreeRegressor was fitted without feature names\n",
      "  warnings.warn(\n",
      "C:\\Users\\dell\\anaconda3\\lib\\site-packages\\sklearn\\utils\\validation.py:2732: UserWarning: X has feature names, but DecisionTreeRegressor was fitted without feature names\n",
      "  warnings.warn(\n"
     ]
    },
    {
     "name": "stdout",
     "output_type": "stream",
     "text": [
      "Sample Predictions with 95% Prediction Intervals (Random Forest):\n",
      "Test Sample 1: Predicted: 30841.19, Interval: [20000.00, 31000.00]\n",
      "Test Sample 2: Predicted: 30635.11, Interval: [25000.00, 31000.00]\n",
      "Test Sample 3: Predicted: 29359.78, Interval: [29000.00, 35000.00]\n",
      "Test Sample 4: Predicted: 15590.71, Interval: [15000.00, 32000.00]\n",
      "Test Sample 5: Predicted: 23439.17, Interval: [23000.00, 26150.00]\n"
     ]
    },
    {
     "name": "stderr",
     "output_type": "stream",
     "text": [
      "C:\\Users\\dell\\anaconda3\\lib\\site-packages\\sklearn\\utils\\validation.py:2732: UserWarning: X has feature names, but DecisionTreeRegressor was fitted without feature names\n",
      "  warnings.warn(\n",
      "C:\\Users\\dell\\anaconda3\\lib\\site-packages\\sklearn\\utils\\validation.py:2732: UserWarning: X has feature names, but DecisionTreeRegressor was fitted without feature names\n",
      "  warnings.warn(\n",
      "C:\\Users\\dell\\anaconda3\\lib\\site-packages\\sklearn\\utils\\validation.py:2732: UserWarning: X has feature names, but DecisionTreeRegressor was fitted without feature names\n",
      "  warnings.warn(\n",
      "C:\\Users\\dell\\anaconda3\\lib\\site-packages\\sklearn\\utils\\validation.py:2732: UserWarning: X has feature names, but DecisionTreeRegressor was fitted without feature names\n",
      "  warnings.warn(\n",
      "C:\\Users\\dell\\anaconda3\\lib\\site-packages\\sklearn\\utils\\validation.py:2732: UserWarning: X has feature names, but DecisionTreeRegressor was fitted without feature names\n",
      "  warnings.warn(\n",
      "C:\\Users\\dell\\anaconda3\\lib\\site-packages\\sklearn\\utils\\validation.py:2732: UserWarning: X has feature names, but DecisionTreeRegressor was fitted without feature names\n",
      "  warnings.warn(\n",
      "C:\\Users\\dell\\anaconda3\\lib\\site-packages\\sklearn\\utils\\validation.py:2732: UserWarning: X has feature names, but DecisionTreeRegressor was fitted without feature names\n",
      "  warnings.warn(\n",
      "C:\\Users\\dell\\anaconda3\\lib\\site-packages\\sklearn\\utils\\validation.py:2732: UserWarning: X has feature names, but DecisionTreeRegressor was fitted without feature names\n",
      "  warnings.warn(\n",
      "C:\\Users\\dell\\anaconda3\\lib\\site-packages\\sklearn\\utils\\validation.py:2732: UserWarning: X has feature names, but DecisionTreeRegressor was fitted without feature names\n",
      "  warnings.warn(\n",
      "C:\\Users\\dell\\anaconda3\\lib\\site-packages\\sklearn\\utils\\validation.py:2732: UserWarning: X has feature names, but DecisionTreeRegressor was fitted without feature names\n",
      "  warnings.warn(\n",
      "C:\\Users\\dell\\anaconda3\\lib\\site-packages\\sklearn\\utils\\validation.py:2732: UserWarning: X has feature names, but DecisionTreeRegressor was fitted without feature names\n",
      "  warnings.warn(\n",
      "C:\\Users\\dell\\anaconda3\\lib\\site-packages\\sklearn\\utils\\validation.py:2732: UserWarning: X has feature names, but DecisionTreeRegressor was fitted without feature names\n",
      "  warnings.warn(\n",
      "C:\\Users\\dell\\anaconda3\\lib\\site-packages\\sklearn\\utils\\validation.py:2732: UserWarning: X has feature names, but DecisionTreeRegressor was fitted without feature names\n",
      "  warnings.warn(\n",
      "C:\\Users\\dell\\anaconda3\\lib\\site-packages\\sklearn\\utils\\validation.py:2732: UserWarning: X has feature names, but DecisionTreeRegressor was fitted without feature names\n",
      "  warnings.warn(\n",
      "C:\\Users\\dell\\anaconda3\\lib\\site-packages\\sklearn\\utils\\validation.py:2732: UserWarning: X has feature names, but DecisionTreeRegressor was fitted without feature names\n",
      "  warnings.warn(\n",
      "C:\\Users\\dell\\anaconda3\\lib\\site-packages\\sklearn\\utils\\validation.py:2732: UserWarning: X has feature names, but DecisionTreeRegressor was fitted without feature names\n",
      "  warnings.warn(\n",
      "C:\\Users\\dell\\anaconda3\\lib\\site-packages\\sklearn\\utils\\validation.py:2732: UserWarning: X has feature names, but DecisionTreeRegressor was fitted without feature names\n",
      "  warnings.warn(\n",
      "C:\\Users\\dell\\anaconda3\\lib\\site-packages\\sklearn\\utils\\validation.py:2732: UserWarning: X has feature names, but DecisionTreeRegressor was fitted without feature names\n",
      "  warnings.warn(\n",
      "C:\\Users\\dell\\anaconda3\\lib\\site-packages\\sklearn\\utils\\validation.py:2732: UserWarning: X has feature names, but DecisionTreeRegressor was fitted without feature names\n",
      "  warnings.warn(\n",
      "C:\\Users\\dell\\anaconda3\\lib\\site-packages\\sklearn\\utils\\validation.py:2732: UserWarning: X has feature names, but DecisionTreeRegressor was fitted without feature names\n",
      "  warnings.warn(\n",
      "C:\\Users\\dell\\anaconda3\\lib\\site-packages\\sklearn\\utils\\validation.py:2732: UserWarning: X has feature names, but DecisionTreeRegressor was fitted without feature names\n",
      "  warnings.warn(\n",
      "C:\\Users\\dell\\anaconda3\\lib\\site-packages\\sklearn\\utils\\validation.py:2732: UserWarning: X has feature names, but DecisionTreeRegressor was fitted without feature names\n",
      "  warnings.warn(\n",
      "C:\\Users\\dell\\anaconda3\\lib\\site-packages\\sklearn\\utils\\validation.py:2732: UserWarning: X has feature names, but DecisionTreeRegressor was fitted without feature names\n",
      "  warnings.warn(\n",
      "C:\\Users\\dell\\anaconda3\\lib\\site-packages\\sklearn\\utils\\validation.py:2732: UserWarning: X has feature names, but DecisionTreeRegressor was fitted without feature names\n",
      "  warnings.warn(\n",
      "C:\\Users\\dell\\anaconda3\\lib\\site-packages\\sklearn\\utils\\validation.py:2732: UserWarning: X has feature names, but DecisionTreeRegressor was fitted without feature names\n",
      "  warnings.warn(\n",
      "C:\\Users\\dell\\anaconda3\\lib\\site-packages\\sklearn\\utils\\validation.py:2732: UserWarning: X has feature names, but DecisionTreeRegressor was fitted without feature names\n",
      "  warnings.warn(\n",
      "C:\\Users\\dell\\anaconda3\\lib\\site-packages\\sklearn\\utils\\validation.py:2732: UserWarning: X has feature names, but DecisionTreeRegressor was fitted without feature names\n",
      "  warnings.warn(\n",
      "C:\\Users\\dell\\anaconda3\\lib\\site-packages\\sklearn\\utils\\validation.py:2732: UserWarning: X has feature names, but DecisionTreeRegressor was fitted without feature names\n",
      "  warnings.warn(\n",
      "C:\\Users\\dell\\anaconda3\\lib\\site-packages\\sklearn\\utils\\validation.py:2732: UserWarning: X has feature names, but DecisionTreeRegressor was fitted without feature names\n",
      "  warnings.warn(\n",
      "C:\\Users\\dell\\anaconda3\\lib\\site-packages\\sklearn\\utils\\validation.py:2732: UserWarning: X has feature names, but DecisionTreeRegressor was fitted without feature names\n",
      "  warnings.warn(\n",
      "C:\\Users\\dell\\anaconda3\\lib\\site-packages\\sklearn\\utils\\validation.py:2732: UserWarning: X has feature names, but DecisionTreeRegressor was fitted without feature names\n",
      "  warnings.warn(\n",
      "C:\\Users\\dell\\anaconda3\\lib\\site-packages\\sklearn\\utils\\validation.py:2732: UserWarning: X has feature names, but DecisionTreeRegressor was fitted without feature names\n",
      "  warnings.warn(\n",
      "C:\\Users\\dell\\anaconda3\\lib\\site-packages\\sklearn\\utils\\validation.py:2732: UserWarning: X has feature names, but DecisionTreeRegressor was fitted without feature names\n",
      "  warnings.warn(\n"
     ]
    }
   ],
   "source": [
    "# Prediction Intervals (Random Forest)\n",
    "rf_model = RandomForestRegressor(n_estimators=100, random_state=42)\n",
    "rf_model.fit(X_train, y_train)\n",
    "\n",
    "# Get predictions for each tree to estimate quantiles\n",
    "tree_predictions = np.array([tree.predict(X_test) for tree in rf_model.estimators_])\n",
    "lower_bound = np.percentile(tree_predictions, 2.5, axis=0)  # 2.5th percentile\n",
    "upper_bound = np.percentile(tree_predictions, 97.5, axis=0)  # 97.5th percentile\n",
    "\n",
    "# Display sample predictions with intervals\n",
    "print(\"Sample Predictions with 95% Prediction Intervals (Random Forest):\")\n",
    "for i in range(5):\n",
    "    print(f\"Test Sample {i+1}: Predicted: {y_pred[i]:.2f}, Interval: [{lower_bound[i]:.2f}, {upper_bound[i]:.2f}]\")"
   ]
  },
  {
   "cell_type": "markdown",
   "id": "6f56b25b",
   "metadata": {},
   "source": [
    "***4. Interpretability and Explainability:***\n",
    "* Feature Importance: Use techniques like permutation importance in tree-based models or SHAP values to explain the influence of each feature on the prediction.\n",
    "* Model Insights: Translate the model's findings into actionable business insights, such as identifying risk factors that significantly increase insurance costs, which can be used for targeted interventions."
   ]
  },
  {
   "cell_type": "code",
   "execution_count": 25,
   "id": "ee1132b5",
   "metadata": {},
   "outputs": [
    {
     "name": "stdout",
     "output_type": "stream",
     "text": [
      "Permutation Importance:\n",
      "                    Feature  Importance       Std\n",
      "0                       Age    1.137183  0.109990\n",
      "3            AnyTransplants    0.218249  0.025882\n",
      "6                    Weight    0.120946  0.021734\n",
      "4        AnyChronicDiseases    0.088979  0.032792\n",
      "8   HistoryOfCancerInFamily    0.051146  0.009355\n",
      "9    NumberOfMajorSurgeries    0.028407  0.007368\n",
      "10                      BMI    0.027436  0.012663\n",
      "2     BloodPressureProblems    0.025311  0.012563\n",
      "5                    Height    0.000903  0.005839\n",
      "1                  Diabetes    0.000083  0.001165\n",
      "7            KnownAllergies   -0.000917  0.001086\n"
     ]
    }
   ],
   "source": [
    "# Permutation Importance\n",
    "perm_importance = permutation_importance(rf_model, X_test, y_test, n_repeats=10, random_state=42)\n",
    "perm_results = pd.DataFrame({\n",
    "    'Feature': X.columns,\n",
    "    'Importance': perm_importance.importances_mean,\n",
    "    'Std': perm_importance.importances_std\n",
    "}).sort_values(by='Importance', ascending=False)\n",
    "\n",
    "print(\"Permutation Importance:\")\n",
    "print(perm_results)"
   ]
  },
  {
   "cell_type": "code",
   "execution_count": 26,
   "id": "2c1850c9",
   "metadata": {},
   "outputs": [],
   "source": [
    "# SHAP Values\n",
    "explainer = shap.TreeExplainer(rf_model)\n",
    "shap_values = explainer.shap_values(X_test)"
   ]
  },
  {
   "cell_type": "code",
   "execution_count": 30,
   "id": "02ce497c",
   "metadata": {},
   "outputs": [
    {
     "name": "stdout",
     "output_type": "stream",
     "text": [
      "\n",
      "SHAP Feature Importance:\n",
      "                    Feature  Mean_Abs_SHAP\n",
      "0                       Age    3784.367576\n",
      "3            AnyTransplants     750.501040\n",
      "6                    Weight     740.209964\n",
      "4        AnyChronicDiseases     610.078156\n",
      "8   HistoryOfCancerInFamily     371.697220\n",
      "9    NumberOfMajorSurgeries     230.660849\n",
      "10                      BMI     187.274147\n",
      "2     BloodPressureProblems     143.262271\n",
      "5                    Height     117.694840\n",
      "1                  Diabetes      25.936083\n",
      "7            KnownAllergies      13.984467\n"
     ]
    }
   ],
   "source": [
    "# Global feature importance (mean absolute SHAP values)\n",
    "shap_summary = pd.DataFrame({\n",
    "    'Feature': X.columns,\n",
    "    'Mean_Abs_SHAP': np.abs(shap_values).mean(axis=0)\n",
    "}).sort_values(by='Mean_Abs_SHAP', ascending=False)\n",
    "\n",
    "print(\"\\nSHAP Feature Importance:\")\n",
    "print(shap_summary)"
   ]
  },
  {
   "cell_type": "code",
   "execution_count": 29,
   "id": "b5bc9fd7",
   "metadata": {
    "scrolled": false
   },
   "outputs": [
    {
     "data": {
      "image/png": "[encoded data removed]",
      "text/plain": [
       "<Figure size 800x590 with 1 Axes>"
      ]
     },
     "metadata": {},
     "output_type": "display_data"
    }
   ],
   "source": [
    "# Plot SHAP summary\n",
    "shap.summary_plot(shap_values, X_test, plot_type=\"bar\", show=False)\n",
    "plt.tight_layout()\n",
    "plt.show()"
   ]
  },
  {
   "cell_type": "markdown",
   "id": "4c90acb8",
   "metadata": {},
   "source": [
    "# Insights\n",
    "## Data Preparation and Initial Trends\n",
    "* Data Ready for Use: No missing values, and numerical features (Age, Height, Weight, BMI, NumberOfMajorSurgeries) are standardized for better modeling.\n",
    "* New Feature Added: BMI (from Height and Weight) helps capture obesity risks, potentially improving predictions.\n",
    "* Patterns Seen:\n",
    "    * People with health issues (Diabetes, Chronic Diseases, Surgeries) often have higher premiums (e.g., 29,000 vs. 25,000 for healthier individuals).\n",
    "    * Older people (higher Age) and those with higher BMI tend to have higher premiums (e.g., 29,000 vs. 23,000).\n",
    "* Business Takeaway:\n",
    "    * Focus on Age, BMI, and health conditions to identify high-risk clients for wellness programs.\n",
    "    * Avoid overcharging for minor factors like allergies, which don’t vary much.\n",
    "    \n",
    "## Model Performance\n",
    "* Random Forest Wins:\n",
    "    * Best accuracy: Test RMSE 2140.00 (error ~5–14% of premium range 15,000–40,000), R² 0.89 (explains 89% of premium changes).\n",
    "    * Good generalization: CV RMSE 2884.21, CV R² 0.79.\n",
    "* Other Models:\n",
    "    * XGBoost: Decent but needs tuning (RMSE 2715.05, CV RMSE 3051.15, R² 0.83).\n",
    "    * Linear Regression: Struggles (RMSE 3494.41, R² 0.71).\n",
    "    * Neural Network: Poor performance (RMSE 8777.33, MAE 7167.53), not suitable without major tuning.\n",
    "\n",
    "* Business Takeaway:\n",
    "    * Use Random Forest for accurate premium predictions to ensure fair pricing and better financial planning.\n",
    "    * XGBoost can be a backup if tuned; Linear Regression and Neural Network aren’t ready.\n",
    "\n",
    "## Prediction Intervals\n",
    "* Uncertainty Ranges:\n",
    "    * Random Forest predictions come with 95% intervals (e.g., predicted 30841.19, interval [20000.00, 31000.00]).\n",
    "    * Wide intervals (e.g., 17,000 for Sample 4) show high uncertainty; narrow ones (e.g., 3,150 for Sample 5) show confidence.\n",
    "\n",
    "* Business Takeaway:\n",
    "    * Set premiums using intervals (e.g., lean toward upper bound like 31,000 for safety).\n",
    "    * Investigate uncertain cases (wide intervals) to improve data or model.\n",
    "    * Share ranges with clients for transparency.\n",
    "\n",
    "## Feature Importance (Permutation and SHAP)\n",
    "* Key Drivers:\n",
    "    * Age: Biggest impact (SHAP: 5887.62, permutation: 0.672770), older age increases premiums a lot.\n",
    "    * AnyTransplants (SHAP: 759.19) and AnyChronicDiseases (SHAP: 614.12): Major health issues raise premiums.\n",
    "    * NumberOfMajorSurgeries: Also important (SHAP: 492.22).\n",
    "* Less Important:\n",
    "    * KnownAllergies, Diabetes, BloodPressureProblems: Very low impact (SHAP values < 100).\n",
    "* Business Takeaway:\n",
    "    * Base premiums mainly on Age, transplants, chronic diseases, and surgeries.\n",
    "    * Don’t overcharge for minor factors like allergies or diabetes (in this model).\n",
    "    * Offer health programs for clients with chronic diseases or transplants to lower risks."
   ]
  },
  {
   "cell_type": "markdown",
   "id": "d5bea1bd",
   "metadata": {},
   "source": [
    "# Recommendations\n",
    "1. ***Deploy Random Forest Model:*** Use the Random Forest model for premium predictions due to its high accuracy (RMSE 2140.00, R² 0.89) and good generalization (CV RMSE 2884.21), ensuring fair and reliable pricing.\n",
    "2. ***Focus on Key Risk Factors:*** Base premiums on Age, AnyTransplants, AnyChronicDiseases, and NumberOfMajorSurgeries, as they have the biggest impact (SHAP: Age 5887.62, AnyTransplants 759.19).\n",
    "3. ***Avoid Overcharging for Minor Factors:*** Don’t heavily weight low-impact features like KnownAllergies (SHAP 32.72) or Diabetes (SHAP 81.30) to ensure fairness.\n",
    "4. ***Use Prediction Intervals:*** Set premiums with 95% prediction intervals (e.g., [20000.00, 31000.00]) to account for uncertainty, and investigate high-uncertainty cases (wide intervals) for better data collection.\n",
    "5. ***Offer Targeted Interventions:*** Provide wellness programs for high-risk clients (e.g., those with chronic diseases or transplants) to reduce risks and potentially lower premiums.\n",
    "6. ***Enhance Transparency:*** Share prediction intervals and key factors (via SHAP explanations) with clients to build trust and explain pricing decisions."
   ]
  }
 ],
 "metadata": {
  "kernelspec": {
   "display_name": "Python 3 (ipykernel)",
   "language": "python",
   "name": "python3"
  },
  "language_info": {
   "codemirror_mode": {
    "name": "ipython",
    "version": 3
   },
   "file_extension": ".py",
   "mimetype": "text/x-python",
   "name": "python",
   "nbconvert_exporter": "python",
   "pygments_lexer": "ipython3",
   "version": "3.10.9"
  }
 },
 "nbformat": 4,
 "nbformat_minor": 5
}
